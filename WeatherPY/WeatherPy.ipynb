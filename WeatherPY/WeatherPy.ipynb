{
 "cells": [
  {
   "cell_type": "markdown",
   "metadata": {},
   "source": [
    "# WeatherPy\n",
    "----\n",
    "\n",
    "#### Note\n",
    "* Instructions have been included for each segment. You do not have to follow them exactly, but they are included to help you think through the steps."
   ]
  },
  {
   "cell_type": "code",
   "execution_count": 43,
   "metadata": {
    "scrolled": true
   },
   "outputs": [],
   "source": [
    "# Dependencies and Setup\n",
    "from citipy import citipy\n",
    "import pandas as pd\n",
    "import numpy as np\n",
    "import matplotlib.pyplot as plt\n",
    "import requests\n",
    "from api_key import weather_api_key, g_key\n",
    "import scipy.stats as sts\n",
    "from scipy.stats import linregress\n",
    "import time\n",
    "import os"
   ]
  },
  {
   "cell_type": "markdown",
   "metadata": {},
   "source": [
    "## Generate Cities List"
   ]
  },
  {
   "cell_type": "code",
   "execution_count": 44,
   "metadata": {},
   "outputs": [
    {
     "data": {
      "text/plain": [
       "550"
      ]
     },
     "execution_count": 44,
     "metadata": {},
     "output_type": "execute_result"
    }
   ],
   "source": [
    "coordinates=[]\n",
    "cities=[]\n",
    "\n",
    "lat = np.random.uniform(-90.00,90.00,1500)\n",
    "long = np.random.uniform(-180.00,180.00,1500)\n",
    "\n",
    "coordinates = zip(lat,long)\n",
    "\n",
    "for coordinates in coordinates:\n",
    "    city = citipy.nearest_city(coordinates[0], coordinates[1]).city_name\n",
    "    #only unique cities get added to list\n",
    "    if city not in cities:\n",
    "        cities.append(city)\n",
    "    if len(cities) == 550:\n",
    "        break\n",
    "    \n",
    "count_cities= len(cities)\n",
    "len(cities)"
   ]
  },
  {
   "cell_type": "code",
   "execution_count": 45,
   "metadata": {},
   "outputs": [
    {
     "data": {
      "text/html": [
       "<div>\n",
       "<style scoped>\n",
       "    .dataframe tbody tr th:only-of-type {\n",
       "        vertical-align: middle;\n",
       "    }\n",
       "\n",
       "    .dataframe tbody tr th {\n",
       "        vertical-align: top;\n",
       "    }\n",
       "\n",
       "    .dataframe thead th {\n",
       "        text-align: right;\n",
       "    }\n",
       "</style>\n",
       "<table border=\"1\" class=\"dataframe\">\n",
       "  <thead>\n",
       "    <tr style=\"text-align: right;\">\n",
       "      <th></th>\n",
       "      <th>Cities</th>\n",
       "    </tr>\n",
       "  </thead>\n",
       "  <tbody>\n",
       "    <tr>\n",
       "      <th>0</th>\n",
       "      <td>shelburne</td>\n",
       "    </tr>\n",
       "    <tr>\n",
       "      <th>1</th>\n",
       "      <td>nikolskoye</td>\n",
       "    </tr>\n",
       "    <tr>\n",
       "      <th>2</th>\n",
       "      <td>lishui</td>\n",
       "    </tr>\n",
       "    <tr>\n",
       "      <th>3</th>\n",
       "      <td>ribeira grande</td>\n",
       "    </tr>\n",
       "    <tr>\n",
       "      <th>4</th>\n",
       "      <td>taolanaro</td>\n",
       "    </tr>\n",
       "  </tbody>\n",
       "</table>\n",
       "</div>"
      ],
      "text/plain": [
       "           Cities\n",
       "0       shelburne\n",
       "1      nikolskoye\n",
       "2          lishui\n",
       "3  ribeira grande\n",
       "4       taolanaro"
      ]
     },
     "execution_count": 45,
     "metadata": {},
     "output_type": "execute_result"
    }
   ],
   "source": [
    "cities = pd.DataFrame({\"Cities\":cities})\n",
    "cities.head()"
   ]
  },
  {
   "cell_type": "markdown",
   "metadata": {},
   "source": [
    "### Perform API Calls\n",
    "* Perform a weather check on each city using a series of successive API calls.\n",
    "* Include a print log of each city as it'sbeing processed (with the city number and city name).\n"
   ]
  },
  {
   "cell_type": "code",
   "execution_count": 46,
   "metadata": {
    "scrolled": true
   },
   "outputs": [
    {
     "data": {
      "text/html": [
       "<div>\n",
       "<style scoped>\n",
       "    .dataframe tbody tr th:only-of-type {\n",
       "        vertical-align: middle;\n",
       "    }\n",
       "\n",
       "    .dataframe tbody tr th {\n",
       "        vertical-align: top;\n",
       "    }\n",
       "\n",
       "    .dataframe thead th {\n",
       "        text-align: right;\n",
       "    }\n",
       "</style>\n",
       "<table border=\"1\" class=\"dataframe\">\n",
       "  <thead>\n",
       "    <tr style=\"text-align: right;\">\n",
       "      <th></th>\n",
       "      <th>Cities</th>\n",
       "      <th>Country</th>\n",
       "      <th>Latitude</th>\n",
       "      <th>Longitude</th>\n",
       "      <th>Cloudiness</th>\n",
       "      <th>Humidity</th>\n",
       "      <th>Max Temperature</th>\n",
       "      <th>Wind Speed</th>\n",
       "    </tr>\n",
       "  </thead>\n",
       "  <tbody>\n",
       "    <tr>\n",
       "      <th>0</th>\n",
       "      <td>shelburne</td>\n",
       "      <td></td>\n",
       "      <td>0</td>\n",
       "      <td>0</td>\n",
       "      <td>0</td>\n",
       "      <td>0</td>\n",
       "      <td>0</td>\n",
       "      <td>0</td>\n",
       "    </tr>\n",
       "    <tr>\n",
       "      <th>1</th>\n",
       "      <td>nikolskoye</td>\n",
       "      <td></td>\n",
       "      <td>0</td>\n",
       "      <td>0</td>\n",
       "      <td>0</td>\n",
       "      <td>0</td>\n",
       "      <td>0</td>\n",
       "      <td>0</td>\n",
       "    </tr>\n",
       "    <tr>\n",
       "      <th>2</th>\n",
       "      <td>lishui</td>\n",
       "      <td></td>\n",
       "      <td>0</td>\n",
       "      <td>0</td>\n",
       "      <td>0</td>\n",
       "      <td>0</td>\n",
       "      <td>0</td>\n",
       "      <td>0</td>\n",
       "    </tr>\n",
       "    <tr>\n",
       "      <th>3</th>\n",
       "      <td>ribeira grande</td>\n",
       "      <td></td>\n",
       "      <td>0</td>\n",
       "      <td>0</td>\n",
       "      <td>0</td>\n",
       "      <td>0</td>\n",
       "      <td>0</td>\n",
       "      <td>0</td>\n",
       "    </tr>\n",
       "    <tr>\n",
       "      <th>4</th>\n",
       "      <td>taolanaro</td>\n",
       "      <td></td>\n",
       "      <td>0</td>\n",
       "      <td>0</td>\n",
       "      <td>0</td>\n",
       "      <td>0</td>\n",
       "      <td>0</td>\n",
       "      <td>0</td>\n",
       "    </tr>\n",
       "  </tbody>\n",
       "</table>\n",
       "</div>"
      ],
      "text/plain": [
       "           Cities Country  Latitude  Longitude  Cloudiness  Humidity  \\\n",
       "0       shelburne                 0          0           0         0   \n",
       "1      nikolskoye                 0          0           0         0   \n",
       "2          lishui                 0          0           0         0   \n",
       "3  ribeira grande                 0          0           0         0   \n",
       "4       taolanaro                 0          0           0         0   \n",
       "\n",
       "   Max Temperature  Wind Speed  \n",
       "0                0           0  \n",
       "1                0           0  \n",
       "2                0           0  \n",
       "3                0           0  \n",
       "4                0           0  "
      ]
     },
     "execution_count": 46,
     "metadata": {},
     "output_type": "execute_result"
    }
   ],
   "source": [
    "#Create DF to fill \n",
    "cities[\"Country\"] = \" \"\n",
    "cities[\"Latitude\"] = 0\n",
    "cities[\"Longitude\"] = 0\n",
    "cities[\"Cloudiness\"] = 0\n",
    "cities[\"Humidity\"] = 0\n",
    "cities[\"Max Temperature\"] = 0\n",
    "cities[\"Wind Speed\"] = 0\n",
    "\n",
    "cities.head()\n"
   ]
  },
  {
   "cell_type": "code",
   "execution_count": 47,
   "metadata": {},
   "outputs": [
    {
     "name": "stdout",
     "output_type": "stream",
     "text": [
      "Start Data Collection Process\n",
      "\n",
      "Searching for 0 shelburne\n",
      "Searching for 1 nikolskoye\n",
      "Searching for 2 lishui\n",
      "Searching for 3 ribeira grande\n",
      "Searching for 4 taolanaro\n",
      "Could not find taolanaro\n",
      "Searching for 5 kasempa\n",
      "Searching for 6 ipil\n",
      "Searching for 7 sitka\n",
      "Searching for 8 ushuaia\n",
      "Searching for 9 azimur\n",
      "Could not find azimur\n",
      "Searching for 10 saint-philippe\n",
      "Searching for 11 vardo\n",
      "Searching for 12 maceio\n",
      "Searching for 13 qaanaaq\n",
      "Searching for 14 chokurdakh\n",
      "Searching for 15 talnakh\n",
      "Searching for 16 kapaa\n",
      "Searching for 17 port lincoln\n",
      "Searching for 18 new norfolk\n",
      "Searching for 19 punta arenas\n",
      "Searching for 20 te anau\n",
      "Searching for 21 upernavik\n",
      "Searching for 22 barra da estiva\n",
      "Searching for 23 watrous\n",
      "Searching for 24 castro\n",
      "Searching for 25 naruto\n",
      "Searching for 26 diego de almagro\n",
      "Searching for 27 tasiilaq\n",
      "Searching for 28 vaini\n",
      "Searching for 29 pavlodar\n",
      "Searching for 30 barentsburg\n",
      "Could not find barentsburg\n",
      "Searching for 31 kodiak\n",
      "Searching for 32 pisco\n",
      "Searching for 33 saskylakh\n",
      "Searching for 34 lasa\n",
      "Searching for 35 staraya mayna\n",
      "Searching for 36 borovskiy\n",
      "Searching for 37 yulara\n",
      "Searching for 38 bluff\n",
      "Searching for 39 busselton\n",
      "Searching for 40 salamiyah\n",
      "Searching for 41 port elizabeth\n",
      "Searching for 42 san patricio\n",
      "Searching for 43 mys shmidta\n",
      "Could not find mys shmidta\n",
      "Searching for 44 lakes entrance\n",
      "Searching for 45 plonsk\n",
      "Searching for 46 jamestown\n",
      "Searching for 47 hermanus\n",
      "Searching for 48 taburi\n",
      "Could not find taburi\n",
      "Searching for 49 talara\n",
      "Searching for 50 saint-francois\n",
      "Searching for 51 tuktoyaktuk\n",
      "Searching for 52 mataura\n",
      "Searching for 53 cape town\n",
      "Searching for 54 hobart\n",
      "Searching for 55 albany\n",
      "Searching for 56 hilo\n",
      "Searching for 57 guerrero negro\n",
      "Searching for 58 puerto ayora\n",
      "Searching for 59 ust-ishim\n",
      "Searching for 60 rikitea\n",
      "Searching for 61 nguiu\n",
      "Could not find nguiu\n",
      "Searching for 62 gardan diwal\n",
      "Could not find gardan diwal\n",
      "Searching for 63 severo-yeniseyskiy\n",
      "Searching for 64 paso de los toros\n",
      "Searching for 65 lapao\n",
      "Searching for 66 buraydah\n",
      "Searching for 67 longonjo\n",
      "Searching for 68 viedma\n",
      "Searching for 69 maragogi\n",
      "Searching for 70 butaritari\n",
      "Searching for 71 nizhneyansk\n",
      "Could not find nizhneyansk\n",
      "Searching for 72 troitsko-pechorsk\n",
      "Searching for 73 college\n",
      "Searching for 74 esperance\n",
      "Searching for 75 hokitika\n",
      "Searching for 76 east wenatchee bench\n",
      "Searching for 77 ludvika\n",
      "Searching for 78 airai\n",
      "Searching for 79 karkaralinsk\n",
      "Could not find karkaralinsk\n",
      "Searching for 80 samusu\n",
      "Could not find samusu\n",
      "Searching for 81 hambantota\n",
      "Searching for 82 dikson\n",
      "Searching for 83 kahului\n",
      "Searching for 84 nilanga\n",
      "Searching for 85 kentau\n",
      "Searching for 86 hervey bay\n",
      "Searching for 87 tombouctou\n",
      "Searching for 88 pevek\n",
      "Searching for 89 jadu\n",
      "Searching for 90 ca mau\n",
      "Searching for 91 khatanga\n",
      "Searching for 92 qafqafa\n",
      "Searching for 93 nome\n",
      "Searching for 94 opuwo\n",
      "Searching for 95 opobo\n",
      "Could not find opobo\n",
      "Searching for 96 magdalena\n",
      "Searching for 97 clyde river\n",
      "Searching for 98 kloulklubed\n",
      "Searching for 99 freeport\n",
      "Searching for 100 mar del plata\n",
      "Searching for 101 norman wells\n",
      "Searching for 102 show low\n",
      "Searching for 103 san cristobal\n",
      "Searching for 104 ponta do sol\n",
      "Searching for 105 vostok\n",
      "Searching for 106 avarua\n",
      "Searching for 107 poli\n",
      "Searching for 108 montes claros\n",
      "Searching for 109 liverpool\n",
      "Searching for 110 georgetown\n",
      "Searching for 111 iqaluit\n",
      "Searching for 112 bredasdorp\n",
      "Searching for 113 illoqqortoormiut\n",
      "Could not find illoqqortoormiut\n",
      "Searching for 114 vila franca do campo\n",
      "Searching for 115 dudinka\n",
      "Searching for 116 belushya guba\n",
      "Could not find belushya guba\n",
      "Searching for 117 paungde\n",
      "Searching for 118 cherskiy\n",
      "Searching for 119 umba\n",
      "Searching for 120 moree\n",
      "Searching for 121 amderma\n",
      "Could not find amderma\n",
      "Searching for 122 ayacucho\n",
      "Searching for 123 padang\n",
      "Searching for 124 lebu\n",
      "Searching for 125 port alfred\n",
      "Searching for 126 atuona\n",
      "Searching for 127 westport\n",
      "Searching for 128 tukrah\n",
      "Searching for 129 dwarahat\n",
      "Searching for 130 barinitas\n",
      "Searching for 131 geraldton\n",
      "Searching for 132 logansport\n",
      "Searching for 133 bolshegrivskoye\n",
      "Could not find bolshegrivskoye\n",
      "Searching for 134 mukhtolovo\n",
      "Searching for 135 cidreira\n",
      "Searching for 136 para de minas\n",
      "Searching for 137 saint-joseph\n",
      "Searching for 138 yellowknife\n",
      "Searching for 139 wuwei\n",
      "Searching for 140 tuatapere\n",
      "Searching for 141 arraial do cabo\n",
      "Searching for 142 key largo\n",
      "Searching for 143 torbay\n",
      "Searching for 144 nicoya\n",
      "Searching for 145 mecca\n",
      "Searching for 146 monster\n",
      "Searching for 147 sioux lookout\n",
      "Searching for 148 east london\n",
      "Searching for 149 wasilla\n",
      "Searching for 150 cayenne\n",
      "Searching for 151 baruun-urt\n",
      "Searching for 152 grand river south east\n",
      "Could not find grand river south east\n",
      "Searching for 153 pierre\n",
      "Searching for 154 contamana\n",
      "Searching for 155 richards bay\n",
      "Searching for 156 tabou\n",
      "Searching for 157 tiksi\n",
      "Searching for 158 puerto colombia\n",
      "Searching for 159 linguere\n",
      "Searching for 160 yangmei\n",
      "Searching for 161 teguldet\n",
      "Searching for 162 santa maria\n",
      "Searching for 163 port hardy\n",
      "Searching for 164 hualmay\n",
      "Searching for 165 carutapera\n",
      "Searching for 166 nageshwari\n",
      "Searching for 167 yerbogachen\n",
      "Searching for 168 bambous virieux\n",
      "Searching for 169 poum\n",
      "Searching for 170 tlacotepec\n",
      "Searching for 171 alice town\n",
      "Searching for 172 carnarvon\n",
      "Searching for 173 chicama\n",
      "Searching for 174 coaraci\n",
      "Searching for 175 buta\n",
      "Searching for 176 berea\n",
      "Searching for 177 pita\n",
      "Searching for 178 buckeye\n",
      "Searching for 179 golfito\n",
      "Searching for 180 grindavik\n",
      "Searching for 181 aksarka\n",
      "Searching for 182 victoria\n",
      "Searching for 183 aitape\n",
      "Searching for 184 klaksvik\n",
      "Searching for 185 port blair\n",
      "Searching for 186 champasak\n",
      "Searching for 187 la ronge\n",
      "Searching for 188 half moon bay\n",
      "Searching for 189 rock springs\n",
      "Searching for 190 kifri\n",
      "Searching for 191 vestmannaeyjar\n",
      "Searching for 192 maningrida\n",
      "Searching for 193 igra\n",
      "Searching for 194 faanui\n",
      "Searching for 195 puerto escondido\n",
      "Searching for 196 koppal\n",
      "Searching for 197 kununurra\n",
      "Searching for 198 okhotsk\n",
      "Searching for 199 dorogobuzh\n",
      "Searching for 200 bilibino\n",
      "Searching for 201 yar-sale\n",
      "Searching for 202 cabo san lucas\n",
      "Searching for 203 sao filipe\n",
      "Searching for 204 xiaoweizhai\n",
      "Searching for 205 pinalejo\n",
      "Searching for 206 nantucket\n",
      "Searching for 207 escanaba\n",
      "Searching for 208 muli\n",
      "Searching for 209 lumby\n",
      "Searching for 210 machilipatnam\n",
      "Searching for 211 shache\n",
      "Searching for 212 chuy\n",
      "Searching for 213 brae\n",
      "Searching for 214 ahuimanu\n",
      "Searching for 215 ibirama\n",
      "Searching for 216 vanavara\n",
      "Searching for 217 kaniama\n",
      "Searching for 218 palabuhanratu\n",
      "Could not find palabuhanratu\n",
      "Searching for 219 ust-nera\n",
      "Searching for 220 samarai\n",
      "Searching for 221 komsomolskiy\n",
      "Searching for 222 teya\n",
      "Searching for 223 dunedin\n",
      "Searching for 224 bengkulu\n",
      "Searching for 225 nyurba\n",
      "Searching for 226 flinders\n",
      "Searching for 227 veraval\n",
      "Searching for 228 provideniya\n",
      "Searching for 229 uwayl\n",
      "Could not find uwayl\n",
      "Searching for 230 lodwar\n",
      "Searching for 231 ornskoldsvik\n",
      "Searching for 232 souillac\n",
      "Searching for 233 attawapiskat\n",
      "Could not find attawapiskat\n",
      "Searching for 234 sorong\n",
      "Searching for 235 matara\n",
      "Searching for 236 kazalinsk\n",
      "Could not find kazalinsk\n",
      "Searching for 237 tela\n",
      "Searching for 238 tyukalinsk\n",
      "Searching for 239 sao gabriel da cachoeira\n",
      "Searching for 240 bathsheba\n",
      "Searching for 241 kieta\n",
      "Searching for 242 hamilton\n",
      "Searching for 243 miandrivazo\n",
      "Searching for 244 bandarbeyla\n",
      "Searching for 245 yumen\n",
      "Searching for 246 terme\n",
      "Searching for 247 ostrovnoy\n",
      "Searching for 248 talawdi\n",
      "Could not find talawdi\n",
      "Searching for 249 ixtapa\n",
      "Searching for 250 batagay-alyta\n",
      "Searching for 251 ahipara\n",
      "Searching for 252 mount isa\n",
      "Searching for 253 alice springs\n",
      "Searching for 254 nizhniy ingash\n",
      "Searching for 255 shingu\n",
      "Searching for 256 santa maria do para\n",
      "Searching for 257 lima\n",
      "Searching for 258 katsuura\n",
      "Searching for 259 lompoc\n",
      "Searching for 260 dunda\n",
      "Searching for 261 fevralsk\n",
      "Could not find fevralsk\n",
      "Searching for 262 dauriya\n",
      "Searching for 263 raudeberg\n",
      "Searching for 264 bonthe\n",
      "Searching for 265 lata\n",
      "Searching for 266 salmo\n",
      "Searching for 267 capinzal\n",
      "Searching for 268 ilulissat\n",
      "Searching for 269 umm durman\n",
      "Could not find umm durman\n",
      "Searching for 270 nanortalik\n",
      "Searching for 271 uch\n",
      "Searching for 272 lengshuitan\n",
      "Searching for 273 fez\n",
      "Searching for 274 sorland\n",
      "Searching for 275 eureka\n",
      "Searching for 276 chivilcoy\n",
      "Searching for 277 ponte nova\n"
     ]
    },
    {
     "name": "stdout",
     "output_type": "stream",
     "text": [
      "Searching for 278 tidore\n",
      "Could not find tidore\n",
      "Searching for 279 atar\n",
      "Searching for 280 elizabeth city\n",
      "Searching for 281 port macquarie\n",
      "Searching for 282 mae hong son\n",
      "Searching for 283 honiton\n",
      "Searching for 284 tavira\n",
      "Searching for 285 dwarka\n",
      "Searching for 286 leningradskiy\n",
      "Searching for 287 cockburn town\n",
      "Searching for 288 haines junction\n",
      "Searching for 289 yashkul\n",
      "Searching for 290 petropavlovsk-kamchatskiy\n",
      "Searching for 291 grand gaube\n",
      "Searching for 292 bethel\n",
      "Searching for 293 sao felix do xingu\n",
      "Searching for 294 tessalit\n",
      "Searching for 295 vaitupu\n",
      "Could not find vaitupu\n",
      "Searching for 296 north myrtle beach\n",
      "Searching for 297 santiago\n",
      "Searching for 298 barrow\n",
      "Searching for 299 kampene\n",
      "Searching for 300 dodge city\n",
      "Searching for 301 markova\n",
      "Searching for 302 maneadero\n",
      "Searching for 303 kodinsk\n",
      "Searching for 304 sanok\n",
      "Searching for 305 longyearbyen\n",
      "Searching for 306 fort nelson\n",
      "Searching for 307 luderitz\n",
      "Searching for 308 batemans bay\n",
      "Searching for 309 havre-saint-pierre\n",
      "Searching for 310 soe\n",
      "Searching for 311 lar gerd\n",
      "Could not find lar gerd\n",
      "Searching for 312 swan hill\n",
      "Searching for 313 isangel\n",
      "Searching for 314 fernie\n",
      "Searching for 315 aquiraz\n",
      "Searching for 316 mehamn\n",
      "Searching for 317 merauke\n",
      "Searching for 318 herveo\n",
      "Searching for 319 lorengau\n",
      "Searching for 320 egvekinot\n",
      "Searching for 321 yidu\n",
      "Searching for 322 ridgecrest\n",
      "Searching for 323 gondanglegi\n",
      "Searching for 324 fare\n",
      "Searching for 325 lao cai\n",
      "Searching for 326 wonthaggi\n",
      "Searching for 327 broome\n",
      "Searching for 328 narsaq\n",
      "Searching for 329 saldanha\n",
      "Searching for 330 atambua\n",
      "Searching for 331 namatanai\n",
      "Searching for 332 pandan\n",
      "Searching for 333 dawei\n",
      "Searching for 334 kavieng\n",
      "Searching for 335 salisbury\n",
      "Searching for 336 aljezur\n",
      "Searching for 337 roald\n",
      "Searching for 338 pimentel\n",
      "Searching for 339 lamar\n",
      "Searching for 340 kingman\n",
      "Searching for 341 krasnyy chikoy\n",
      "Searching for 342 saint anthony\n",
      "Searching for 343 olafsvik\n",
      "Searching for 344 bosaso\n",
      "Searching for 345 concepcion del oro\n",
      "Searching for 346 ndjole\n",
      "Searching for 347 fortuna\n",
      "Searching for 348 monrovia\n",
      "Searching for 349 hasaki\n",
      "Searching for 350 kashin\n",
      "Searching for 351 rawson\n",
      "Searching for 352 gat\n",
      "Searching for 353 visby\n",
      "Searching for 354 gidole\n",
      "Searching for 355 toliary\n",
      "Could not find toliary\n",
      "Searching for 356 tank\n",
      "Searching for 357 kavaratti\n",
      "Searching for 358 perg\n",
      "Searching for 359 kaitangata\n",
      "Searching for 360 hithadhoo\n",
      "Searching for 361 nemuro\n",
      "Searching for 362 wanning\n",
      "Searching for 363 coquimbo\n",
      "Searching for 364 margate\n",
      "Searching for 365 angoram\n",
      "Searching for 366 saint george\n",
      "Searching for 367 lufilufi\n",
      "Searching for 368 pacific grove\n",
      "Searching for 369 haren\n",
      "Searching for 370 byron bay\n",
      "Searching for 371 kruisfontein\n",
      "Searching for 372 atbasar\n",
      "Searching for 373 quincy\n",
      "Searching for 374 meyungs\n",
      "Could not find meyungs\n",
      "Searching for 375 turka\n",
      "Searching for 376 qaqortoq\n",
      "Searching for 377 letterkenny\n",
      "Searching for 378 acapulco\n",
      "Searching for 379 akyab\n",
      "Searching for 380 umm lajj\n",
      "Searching for 381 berlevag\n",
      "Searching for 382 gombong\n",
      "Searching for 383 barcelos\n",
      "Searching for 384 desaguadero\n",
      "Searching for 385 duz\n",
      "Could not find duz\n",
      "Searching for 386 shimoda\n",
      "Searching for 387 lavrentiya\n",
      "Searching for 388 salalah\n",
      "Searching for 389 kibala\n",
      "Searching for 390 bohuslav\n",
      "Searching for 391 gayeri\n",
      "Searching for 392 peniche\n",
      "Searching for 393 emba\n",
      "Searching for 394 uruzgan\n",
      "Searching for 395 baghdad\n",
      "Searching for 396 alofi\n",
      "Searching for 397 los llanos de aridane\n",
      "Searching for 398 sambava\n",
      "Searching for 399 saint-pierre\n",
      "Searching for 400 sao joao da barra\n",
      "Searching for 401 maba\n",
      "Searching for 402 havelock\n",
      "Searching for 403 gigmoto\n",
      "Searching for 404 litovko\n",
      "Searching for 405 isabang\n",
      "Searching for 406 oriximina\n",
      "Searching for 407 tiznit\n",
      "Searching for 408 mount gambier\n",
      "Searching for 409 vestmanna\n",
      "Searching for 410 inta\n",
      "Searching for 411 tsihombe\n",
      "Could not find tsihombe\n",
      "Searching for 412 liancheng\n",
      "Searching for 413 goderich\n",
      "Searching for 414 hot springs\n",
      "Searching for 415 sept-iles\n",
      "Searching for 416 bejar\n",
      "Searching for 417 humaita\n",
      "Searching for 418 gobabis\n",
      "Searching for 419 ambilobe\n",
      "Searching for 420 warqla\n",
      "Could not find warqla\n",
      "Searching for 421 milan\n",
      "Searching for 422 fort payne\n",
      "Searching for 423 lielvarde\n",
      "Searching for 424 arman\n",
      "Searching for 425 chute-aux-outardes\n",
      "Searching for 426 coihueco\n",
      "Searching for 427 paamiut\n",
      "Searching for 428 thompson\n",
      "Searching for 429 san juan\n",
      "Searching for 430 hobyo\n",
      "Searching for 431 malwan\n",
      "Could not find malwan\n",
      "Searching for 432 baft\n",
      "Searching for 433 enshi\n",
      "Searching for 434 shakawe\n",
      "Searching for 435 brooks\n",
      "Searching for 436 tura\n",
      "Searching for 437 mokobeng\n",
      "Searching for 438 antibes\n",
      "Searching for 439 asosa\n",
      "Searching for 440 ternate\n",
      "Searching for 441 kashi\n",
      "Searching for 442 faya\n",
      "Searching for 443 xuddur\n",
      "Searching for 444 boljevac\n",
      "Searching for 445 george town\n",
      "Searching for 446 natal\n",
      "Searching for 447 itarema\n",
      "Searching for 448 laguna\n",
      "Searching for 449 jesus carranza\n",
      "Searching for 450 san andres\n",
      "Searching for 451 soyo\n",
      "Searching for 452 ancud\n",
      "Searching for 453 chernyshevskiy\n",
      "Searching for 454 poltavka\n",
      "Searching for 455 tuy hoa\n",
      "Searching for 456 kargopol\n",
      "Searching for 457 hofn\n",
      "Searching for 458 tarudant\n",
      "Could not find tarudant\n",
      "Searching for 459 mountain home\n",
      "Searching for 460 ketchikan\n",
      "Searching for 461 manicore\n",
      "Searching for 462 atagay\n",
      "Searching for 463 manbij\n",
      "Searching for 464 mananjary\n",
      "Searching for 465 kanniyakumari\n",
      "Searching for 466 lagoa\n",
      "Searching for 467 saint-augustin\n",
      "Searching for 468 sao miguel do araguaia\n",
      "Searching for 469 pangnirtung\n",
      "Searching for 470 zeya\n",
      "Searching for 471 vao\n",
      "Searching for 472 touros\n",
      "Searching for 473 bongandanga\n",
      "Searching for 474 phan rang\n",
      "Could not find phan rang\n",
      "Searching for 475 shamary\n",
      "Searching for 476 pangody\n",
      "Searching for 477 tonota\n",
      "Searching for 478 boyolangu\n",
      "Searching for 479 temiscaming\n",
      "Searching for 480 huarmey\n",
      "Searching for 481 san carlos de bariloche\n",
      "Searching for 482 svelgen\n",
      "Searching for 483 baykit\n",
      "Searching for 484 bilma\n",
      "Searching for 485 beloha\n",
      "Searching for 486 tateyama\n",
      "Searching for 487 copiapo\n",
      "Searching for 488 kamenskoye\n",
      "Could not find kamenskoye\n",
      "Searching for 489 duzici\n",
      "Could not find duzici\n",
      "Searching for 490 progreso\n",
      "Searching for 491 nouadhibou\n",
      "Searching for 492 shenjiamen\n",
      "Searching for 493 kingsville\n",
      "Searching for 494 namibe\n",
      "Searching for 495 harper\n",
      "Searching for 496 ascension\n",
      "Searching for 497 selishche\n",
      "Searching for 498 aschersleben\n",
      "Searching for 499 anaconda\n",
      "Searching for 500 buala\n",
      "Searching for 501 oranjemund\n",
      "Searching for 502 mahebourg\n",
      "Searching for 503 bolobo\n",
      "Searching for 504 saleaula\n",
      "Could not find saleaula\n",
      "Searching for 505 lolua\n",
      "Could not find lolua\n",
      "Searching for 506 port hedland\n",
      "Searching for 507 abu zabad\n",
      "Searching for 508 north bend\n",
      "Searching for 509 ambon\n",
      "Searching for 510 sabzevar\n",
      "Searching for 511 tilichiki\n",
      "Searching for 512 christchurch\n",
      "Searching for 513 palana\n",
      "Searching for 514 puerto leguizamo\n",
      "Searching for 515 mathathane\n",
      "Searching for 516 yagodnoye\n",
      "Searching for 517 doha\n",
      "Searching for 518 wajima\n",
      "Searching for 519 gravdal\n",
      "Searching for 520 guane\n",
      "Searching for 521 constitucion\n",
      "Searching for 522 cabedelo\n",
      "Searching for 523 kyzyl-mazhalyk\n",
      "Searching for 524 forbes\n",
      "Searching for 525 dingle\n",
      "Searching for 526 araouane\n",
      "Searching for 527 la baule-escoublac\n",
      "Searching for 528 hirara\n",
      "Searching for 529 ilhabela\n",
      "Searching for 530 wajir\n",
      "Searching for 531 puerto madero\n",
      "Searching for 532 quimper\n",
      "Searching for 533 sigli\n",
      "Searching for 534 eydhafushi\n",
      "Searching for 535 maniitsoq\n",
      "Searching for 536 sinnamary\n",
      "Searching for 537 poya\n",
      "Searching for 538 meulaboh\n",
      "Searching for 539 gafanha da encarnacao\n",
      "Searching for 540 castrolibero\n",
      "Searching for 541 manjakandriana\n",
      "Searching for 542 lyubotyn\n",
      "Searching for 543 tautira\n",
      "Searching for 544 atikokan\n",
      "Searching for 545 ossora\n",
      "Searching for 546 punta de bombon\n",
      "Searching for 547 pingyin\n",
      "Searching for 548 visnes\n",
      "Searching for 549 san luis\n",
      "\n",
      "Data Collection Complete\n"
     ]
    }
   ],
   "source": [
    "print(\"Start Data Collection Process\")\n",
    "print()\n",
    "\n",
    "#run a for loop to gather data - for each city in the list of cities, gather the following...\n",
    "for index, row in cities.iterrows():\n",
    "    \n",
    "    #Build URL\n",
    "    #URL for Open Weather Data will iterate through list of cities\n",
    "    base_url = 'http://api.openweathermap.org/data/2.5/weather?'\n",
    "    units = \"Imperial\"\n",
    "    city_name = row[\"Cities\"]\n",
    "    print(f\"Searching for {index} {city_name}\")\n",
    "    params = {'q': city_name, \n",
    "            'appid': weather_api_key,\n",
    "            'units': units\n",
    "            }\n",
    "    response = requests.get(base_url, params=params).json()\n",
    "    \n",
    "    try:\n",
    "        cities.loc[index, \"Country\"] = response[\"sys\"][\"country\"]\n",
    "        cities.loc[index, \"Latitude\"]  = response[\"coord\"][\"lat\"]\n",
    "        cities.loc[index, \"Longitude\"] = response[\"coord\"][\"lon\"]\n",
    "        cities.loc[index, \"Cloudiness\"] = response[\"clouds\"][\"all\"]\n",
    "        cities.loc[index, \"Humidity\"] = response[\"main\"][\"humidity\"]\n",
    "        cities.loc[index, \"Max Temperature\"] = response[\"main\"][\"temp_max\"]\n",
    "        cities.loc[index, \"Wind Speed\"] = response[\"wind\"][\"speed\"]\n",
    "    \n",
    "    except (KeyError, IndexError):\n",
    "        print(\"Could not find {}\".format(row[\"Cities\"]))\n",
    "\n",
    "print()\n",
    "print(\"Data Collection Complete\")\n",
    "\n",
    "        "
   ]
  },
  {
   "cell_type": "code",
   "execution_count": 49,
   "metadata": {},
   "outputs": [
    {
     "data": {
      "text/plain": [
       "Cities             550\n",
       "Country            550\n",
       "Latitude           550\n",
       "Longitude          550\n",
       "Cloudiness         550\n",
       "Humidity           550\n",
       "Max Temperature    550\n",
       "Wind Speed         550\n",
       "dtype: int64"
      ]
     },
     "execution_count": 49,
     "metadata": {},
     "output_type": "execute_result"
    }
   ],
   "source": [
    "cities.count()"
   ]
  },
  {
   "cell_type": "markdown",
   "metadata": {},
   "source": [
    "### Convert Raw Data to DataFrame\n",
    "* Export the city data into a .csv.\n",
    "* Display the DataFrame"
   ]
  },
  {
   "cell_type": "code",
   "execution_count": 50,
   "metadata": {},
   "outputs": [],
   "source": [
    "output_file=os.path.join('Weather.csv')\n",
    "cities.to_csv(output_file,index=False,header=True)"
   ]
  },
  {
   "cell_type": "code",
   "execution_count": 51,
   "metadata": {},
   "outputs": [
    {
     "data": {
      "text/html": [
       "<div>\n",
       "<style scoped>\n",
       "    .dataframe tbody tr th:only-of-type {\n",
       "        vertical-align: middle;\n",
       "    }\n",
       "\n",
       "    .dataframe tbody tr th {\n",
       "        vertical-align: top;\n",
       "    }\n",
       "\n",
       "    .dataframe thead th {\n",
       "        text-align: right;\n",
       "    }\n",
       "</style>\n",
       "<table border=\"1\" class=\"dataframe\">\n",
       "  <thead>\n",
       "    <tr style=\"text-align: right;\">\n",
       "      <th></th>\n",
       "      <th>Cities</th>\n",
       "      <th>Country</th>\n",
       "      <th>Latitude</th>\n",
       "      <th>Longitude</th>\n",
       "      <th>Cloudiness</th>\n",
       "      <th>Humidity</th>\n",
       "      <th>Max Temperature</th>\n",
       "      <th>Wind Speed</th>\n",
       "    </tr>\n",
       "  </thead>\n",
       "  <tbody>\n",
       "    <tr>\n",
       "      <th>0</th>\n",
       "      <td>shelburne</td>\n",
       "      <td>CA</td>\n",
       "      <td>44.08</td>\n",
       "      <td>-80.20</td>\n",
       "      <td>90</td>\n",
       "      <td>87</td>\n",
       "      <td>57.99</td>\n",
       "      <td>8.19</td>\n",
       "    </tr>\n",
       "    <tr>\n",
       "      <th>1</th>\n",
       "      <td>nikolskoye</td>\n",
       "      <td>RU</td>\n",
       "      <td>59.70</td>\n",
       "      <td>30.79</td>\n",
       "      <td>75</td>\n",
       "      <td>76</td>\n",
       "      <td>51.80</td>\n",
       "      <td>6.71</td>\n",
       "    </tr>\n",
       "    <tr>\n",
       "      <th>2</th>\n",
       "      <td>lishui</td>\n",
       "      <td>CN</td>\n",
       "      <td>28.46</td>\n",
       "      <td>119.91</td>\n",
       "      <td>45</td>\n",
       "      <td>51</td>\n",
       "      <td>93.36</td>\n",
       "      <td>3.00</td>\n",
       "    </tr>\n",
       "    <tr>\n",
       "      <th>3</th>\n",
       "      <td>ribeira grande</td>\n",
       "      <td>PT</td>\n",
       "      <td>38.52</td>\n",
       "      <td>-28.70</td>\n",
       "      <td>43</td>\n",
       "      <td>62</td>\n",
       "      <td>66.58</td>\n",
       "      <td>12.41</td>\n",
       "    </tr>\n",
       "    <tr>\n",
       "      <th>4</th>\n",
       "      <td>taolanaro</td>\n",
       "      <td></td>\n",
       "      <td>0.00</td>\n",
       "      <td>0.00</td>\n",
       "      <td>0</td>\n",
       "      <td>0</td>\n",
       "      <td>0.00</td>\n",
       "      <td>0.00</td>\n",
       "    </tr>\n",
       "    <tr>\n",
       "      <th>...</th>\n",
       "      <td>...</td>\n",
       "      <td>...</td>\n",
       "      <td>...</td>\n",
       "      <td>...</td>\n",
       "      <td>...</td>\n",
       "      <td>...</td>\n",
       "      <td>...</td>\n",
       "      <td>...</td>\n",
       "    </tr>\n",
       "    <tr>\n",
       "      <th>545</th>\n",
       "      <td>ossora</td>\n",
       "      <td>RU</td>\n",
       "      <td>59.24</td>\n",
       "      <td>163.07</td>\n",
       "      <td>28</td>\n",
       "      <td>67</td>\n",
       "      <td>50.16</td>\n",
       "      <td>4.14</td>\n",
       "    </tr>\n",
       "    <tr>\n",
       "      <th>546</th>\n",
       "      <td>punta de bombon</td>\n",
       "      <td>PE</td>\n",
       "      <td>-17.17</td>\n",
       "      <td>-71.79</td>\n",
       "      <td>96</td>\n",
       "      <td>84</td>\n",
       "      <td>60.19</td>\n",
       "      <td>7.54</td>\n",
       "    </tr>\n",
       "    <tr>\n",
       "      <th>547</th>\n",
       "      <td>pingyin</td>\n",
       "      <td>CN</td>\n",
       "      <td>36.28</td>\n",
       "      <td>116.45</td>\n",
       "      <td>66</td>\n",
       "      <td>28</td>\n",
       "      <td>79.18</td>\n",
       "      <td>7.99</td>\n",
       "    </tr>\n",
       "    <tr>\n",
       "      <th>548</th>\n",
       "      <td>visnes</td>\n",
       "      <td>NO</td>\n",
       "      <td>59.36</td>\n",
       "      <td>5.22</td>\n",
       "      <td>77</td>\n",
       "      <td>76</td>\n",
       "      <td>57.00</td>\n",
       "      <td>13.87</td>\n",
       "    </tr>\n",
       "    <tr>\n",
       "      <th>549</th>\n",
       "      <td>san luis</td>\n",
       "      <td>AR</td>\n",
       "      <td>-33.30</td>\n",
       "      <td>-66.34</td>\n",
       "      <td>0</td>\n",
       "      <td>33</td>\n",
       "      <td>58.93</td>\n",
       "      <td>8.97</td>\n",
       "    </tr>\n",
       "  </tbody>\n",
       "</table>\n",
       "<p>550 rows × 8 columns</p>\n",
       "</div>"
      ],
      "text/plain": [
       "              Cities Country  Latitude  Longitude  Cloudiness  Humidity  \\\n",
       "0          shelburne      CA     44.08     -80.20          90        87   \n",
       "1         nikolskoye      RU     59.70      30.79          75        76   \n",
       "2             lishui      CN     28.46     119.91          45        51   \n",
       "3     ribeira grande      PT     38.52     -28.70          43        62   \n",
       "4          taolanaro              0.00       0.00           0         0   \n",
       "..               ...     ...       ...        ...         ...       ...   \n",
       "545           ossora      RU     59.24     163.07          28        67   \n",
       "546  punta de bombon      PE    -17.17     -71.79          96        84   \n",
       "547          pingyin      CN     36.28     116.45          66        28   \n",
       "548           visnes      NO     59.36       5.22          77        76   \n",
       "549         san luis      AR    -33.30     -66.34           0        33   \n",
       "\n",
       "     Max Temperature  Wind Speed  \n",
       "0              57.99        8.19  \n",
       "1              51.80        6.71  \n",
       "2              93.36        3.00  \n",
       "3              66.58       12.41  \n",
       "4               0.00        0.00  \n",
       "..               ...         ...  \n",
       "545            50.16        4.14  \n",
       "546            60.19        7.54  \n",
       "547            79.18        7.99  \n",
       "548            57.00       13.87  \n",
       "549            58.93        8.97  \n",
       "\n",
       "[550 rows x 8 columns]"
      ]
     },
     "execution_count": 51,
     "metadata": {},
     "output_type": "execute_result"
    }
   ],
   "source": [
    "cities"
   ]
  },
  {
   "cell_type": "markdown",
   "metadata": {},
   "source": [
    "## Inspect the data and remove the cities where the humidity > 100%.\n",
    "----\n",
    "Skip this step if there are no cities that have humidity > 100%. "
   ]
  },
  {
   "cell_type": "code",
   "execution_count": 52,
   "metadata": {},
   "outputs": [],
   "source": [
    "#Clean dataframe to remove cities that have humidity greater than 100 and also cities that were not found\n",
    "\n",
    "cities1 = (cities[cities[\"Cloudiness\"]!= 0])\n",
    "cities2 = (cities1[cities1[\"Humidity\"] < 100])"
   ]
  },
  {
   "cell_type": "code",
   "execution_count": 56,
   "metadata": {},
   "outputs": [
    {
     "data": {
      "text/plain": [
       "Cities             425\n",
       "Country            425\n",
       "Latitude           425\n",
       "Longitude          425\n",
       "Cloudiness         425\n",
       "Humidity           425\n",
       "Max Temperature    425\n",
       "Wind Speed         425\n",
       "dtype: int64"
      ]
     },
     "execution_count": 56,
     "metadata": {},
     "output_type": "execute_result"
    }
   ],
   "source": [
    "#  Get the indices of cities that have humidity over 100%.\n",
    "cities2.count()\n"
   ]
  },
  {
   "cell_type": "markdown",
   "metadata": {},
   "source": [
    "There are no cities in which the humidity is above 100%. Any cities that were not found were also removed from the analysis. The data is clean\n"
   ]
  },
  {
   "cell_type": "markdown",
   "metadata": {},
   "source": [
    "## Plotting the Data\n",
    "* Use proper labeling of the plots using plot titles (including date of analysis) and axes labels.\n",
    "* Save the plotted figures as .pngs."
   ]
  },
  {
   "cell_type": "markdown",
   "metadata": {},
   "source": [
    "## Latitude vs. Temperature Plot"
   ]
  },
  {
   "cell_type": "code",
   "execution_count": 60,
   "metadata": {
    "scrolled": true
   },
   "outputs": [
    {
     "data": {
      "image/png": "[encoded data removed]",
      "text/plain": [
       "<Figure size 432x288 with 1 Axes>"
      ]
     },
     "metadata": {
      "needs_background": "light"
     },
     "output_type": "display_data"
    }
   ],
   "source": [
    "#Build Scatter Plot\n",
    "plt.scatter(cities2[\"Latitude\"],cities2[\"Max Temperature\"],marker=\"o\")\n",
    "plt.title('City Latitude vs Temperature Plot')\n",
    "plt.ylabel('Max Temperature (F)')\n",
    "plt.xlabel('Latitude')\n",
    "plt.ylim(20,110)\n",
    "corr=sts.pearsonr(cities2[\"Max Temperature\"],cities2[\"Latitude\"]);\n",
    "corr\n",
    "plt.savefig(\"Images/LatvsTemp.png\")"
   ]
  },
  {
   "cell_type": "markdown",
   "metadata": {},
   "source": [
    "It can been seen that the closer we are to the equator the higher the temperatures are. "
   ]
  },
  {
   "cell_type": "markdown",
   "metadata": {},
   "source": [
    "## Latitude vs. Humidity Plot"
   ]
  },
  {
   "cell_type": "code",
   "execution_count": 61,
   "metadata": {},
   "outputs": [
    {
     "data": {
      "image/png": "[encoded data removed]",
      "text/plain": [
       "<Figure size 432x288 with 1 Axes>"
      ]
     },
     "metadata": {
      "needs_background": "light"
     },
     "output_type": "display_data"
    }
   ],
   "source": [
    "#Build Scatter Plot\n",
    "plt.scatter(cities2[\"Latitude\"],cities2[\"Humidity\"],marker=\"o\")\n",
    "plt.title('City Latitude vs Humidity Plot')\n",
    "plt.ylabel('Humidity (%)')\n",
    "plt.xlabel('Latitude')\n",
    "corr=sts.pearsonr(cities2[\"Humidity\"],cities2[\"Latitude\"]);\n",
    "corr\n",
    "plt.savefig('Images/LatvsHumidity')"
   ]
  },
  {
   "cell_type": "markdown",
   "metadata": {},
   "source": [
    "For this specific list of cities the p-value falls below the acceptable level. We can then conclude that corealation between Latitude and Humidity are statisically significant. There is a cluster of cities that have high humidiy around the equator."
   ]
  },
  {
   "cell_type": "markdown",
   "metadata": {},
   "source": [
    "## Latitude vs. Cloudiness Plot"
   ]
  },
  {
   "cell_type": "code",
   "execution_count": 62,
   "metadata": {},
   "outputs": [
    {
     "data": {
      "image/png": "[encoded data removed]",
      "text/plain": [
       "<Figure size 432x288 with 1 Axes>"
      ]
     },
     "metadata": {
      "needs_background": "light"
     },
     "output_type": "display_data"
    }
   ],
   "source": [
    "#Build Scatter Plot\n",
    "plt.scatter(cities2[\"Latitude\"],cities2[\"Cloudiness\"],marker=\"o\")\n",
    "plt.title('City Latitude vs Cloudiness Plot')\n",
    "plt.ylabel('Cloudiness')\n",
    "plt.xlabel('Latitude')\n",
    "corr=sts.pearsonr(cities2[\"Cloudiness\"],cities2[\"Latitude\"]);\n",
    "corr\n",
    "plt.savefig('Images/LatvsCloudiness')"
   ]
  },
  {
   "cell_type": "markdown",
   "metadata": {},
   "source": [
    "In analyzing the p-value, there is a a correlation between these two. It cna be seen that for these particular cities that cities above the equator in the northern hemisphere show more clouds than in the southern hemisphere."
   ]
  },
  {
   "cell_type": "markdown",
   "metadata": {},
   "source": [
    "## Latitude vs. Wind Speed Plot"
   ]
  },
  {
   "cell_type": "code",
   "execution_count": 63,
   "metadata": {},
   "outputs": [
    {
     "data": {
      "image/png": "[encoded data removed]",
      "text/plain": [
       "<Figure size 432x288 with 1 Axes>"
      ]
     },
     "metadata": {
      "needs_background": "light"
     },
     "output_type": "display_data"
    }
   ],
   "source": [
    "#Build Scatter Plot\n",
    "plt.scatter(cities2[\"Latitude\"],cities2[\"Wind Speed\"],marker=\"o\")\n",
    "plt.title('City Latitude vs Wind Speed Plot')\n",
    "plt.ylabel('Wind Speed')\n",
    "plt.xlabel('Latitude')\n",
    "corr=sts.pearsonr(cities2[\"Wind Speed\"],cities2[\"Latitude\"]);\n",
    "corr\n",
    "plt.savefig('Images/LatvsWindSpeed')"
   ]
  },
  {
   "cell_type": "markdown",
   "metadata": {},
   "source": [
    "In analyzing the p-value, there is a statistical correlation between these two.\n",
    "But the wind speeds are evenly split between north and south"
   ]
  },
  {
   "cell_type": "markdown",
   "metadata": {},
   "source": [
    "## Linear Regression"
   ]
  },
  {
   "cell_type": "markdown",
   "metadata": {},
   "source": [
    "####  Northern Hemisphere - Max Temp vs. Latitude Linear Regression"
   ]
  },
  {
   "cell_type": "code",
   "execution_count": 64,
   "metadata": {},
   "outputs": [
    {
     "data": {
      "text/plain": [
       "'y = -0.63x + 89.94'"
      ]
     },
     "execution_count": 64,
     "metadata": {},
     "output_type": "execute_result"
    }
   ],
   "source": [
    "#Line Equation\n",
    "(slope,intercept,rvalue,pvalue,stderr)=linregress(north[\"Latitude\"].astype(float),north[\"Max Temperature\"].astype(float))\n",
    "regress_values = north[\"Latitude\"]*slope +intercept\n",
    "line_eq= \"y = \" + str(round(slope,2)) + \"x + \"+ str(round(intercept,2))\n",
    "line_eq"
   ]
  },
  {
   "cell_type": "code",
   "execution_count": 65,
   "metadata": {},
   "outputs": [
    {
     "data": {
      "image/png": "[encoded data removed]",
      "text/plain": [
       "<Figure size 432x288 with 1 Axes>"
      ]
     },
     "metadata": {
      "needs_background": "light"
     },
     "output_type": "display_data"
    }
   ],
   "source": [
    "#Create Plot\n",
    "plt.scatter(north[\"Latitude\"],north[\"Max Temperature\"])\n",
    "plt.plot(north[\"Latitude\"],regress_values,\"red\")\n",
    "plt.annotate(line_eq,(7,42),color=\"green\",fontsize=15)\n",
    "plt.annotate(f\"R2 = {round(rvalue**2,3)}\",(7,35),fontsize=14,color=\"green\")\n",
    "plt.xlabel('Latitude')\n",
    "plt.ylabel('Max Temperature (F)')\n",
    "plt.savefig('Images/LinRegress_TempvsLat_North')"
   ]
  },
  {
   "cell_type": "markdown",
   "metadata": {},
   "source": [
    "####  Southern Hemisphere - Max Temp vs. Latitude Linear Regression"
   ]
  },
  {
   "cell_type": "code",
   "execution_count": 66,
   "metadata": {},
   "outputs": [
    {
     "data": {
      "text/plain": [
       "'y = 0.66x + 81.42'"
      ]
     },
     "execution_count": 66,
     "metadata": {},
     "output_type": "execute_result"
    }
   ],
   "source": [
    "#Line Equation\n",
    "(slope,intercept,rvalue,pvalue,stderr)=linregress(south[\"Latitude\"].astype(float),south[\"Max Temperature\"].astype(float))\n",
    "regress_values = south[\"Latitude\"]*slope +intercept\n",
    "line_eq= \"y = \" + str(round(slope,2)) + \"x + \"+ str(round(intercept,2))\n",
    "line_eq"
   ]
  },
  {
   "cell_type": "code",
   "execution_count": 67,
   "metadata": {},
   "outputs": [
    {
     "data": {
      "image/png": "[encoded data removed]",
      "text/plain": [
       "<Figure size 432x288 with 1 Axes>"
      ]
     },
     "metadata": {
      "needs_background": "light"
     },
     "output_type": "display_data"
    }
   ],
   "source": [
    "#Create Plot\n",
    "plt.scatter(south[\"Latitude\"],south[\"Max Temperature\"])\n",
    "plt.plot(south[\"Latitude\"],regress_values,\"red\")\n",
    "plt.annotate(line_eq,(-25,52),color=\"green\",fontsize=15)\n",
    "plt.annotate(f\"R2 = {round(rvalue**2,3)}\",(-25,45),fontsize=14,color=\"green\")\n",
    "plt.xlabel('Latitude')\n",
    "plt.ylabel('Max Temperature (F)')\n",
    "plt.savefig('Images/LinRegress_TempvsLat_South')"
   ]
  },
  {
   "cell_type": "markdown",
   "metadata": {},
   "source": [
    "####  Northern Hemisphere - Humidity (%) vs. Latitude Linear Regression"
   ]
  },
  {
   "cell_type": "code",
   "execution_count": 68,
   "metadata": {},
   "outputs": [
    {
     "data": {
      "text/plain": [
       "'y = -0.03x + 74.79'"
      ]
     },
     "execution_count": 68,
     "metadata": {},
     "output_type": "execute_result"
    }
   ],
   "source": [
    "#Line Equation\n",
    "(slope,intercept,rvalue,pvalue,stderr)=linregress(north[\"Latitude\"].astype(float),north[\"Humidity\"].astype(float))\n",
    "regress_values = north[\"Latitude\"]*slope +intercept\n",
    "line_eq= \"y = \" + str(round(slope,2)) + \"x + \"+ str(round(intercept,2))\n",
    "line_eq"
   ]
  },
  {
   "cell_type": "code",
   "execution_count": 69,
   "metadata": {},
   "outputs": [
    {
     "data": {
      "image/png": "[encoded data removed]",
      "text/plain": [
       "<Figure size 432x288 with 1 Axes>"
      ]
     },
     "metadata": {
      "needs_background": "light"
     },
     "output_type": "display_data"
    }
   ],
   "source": [
    "#Create Plot\n",
    "plt.scatter(north[\"Latitude\"],north[\"Humidity\"])\n",
    "plt.plot(north[\"Latitude\"],regress_values,\"red\")\n",
    "plt.annotate(line_eq,(0,35),color=\"green\",fontsize=15)\n",
    "plt.annotate(f\"R2 = {round(rvalue**2,3)}\",(0,27),fontsize=14,color=\"green\")\n",
    "plt.xlabel('Latitude')\n",
    "plt.ylabel('Humidity (%)')\n",
    "plt.savefig('Images/LinRegress_LatvsHum_North')"
   ]
  },
  {
   "cell_type": "markdown",
   "metadata": {},
   "source": [
    "####  Southern Hemisphere - Humidity (%) vs. Latitude Linear Regression"
   ]
  },
  {
   "cell_type": "code",
   "execution_count": 70,
   "metadata": {},
   "outputs": [
    {
     "data": {
      "text/plain": [
       "'y = 0.08x + 73.75'"
      ]
     },
     "execution_count": 70,
     "metadata": {},
     "output_type": "execute_result"
    }
   ],
   "source": [
    "#Line Equation\n",
    "(slope,intercept,rvalue,pvalue,stderr)=linregress(south[\"Latitude\"].astype(float),south[\"Humidity\"].astype(float))\n",
    "regress_values = south[\"Latitude\"]*slope +intercept\n",
    "line_eq= \"y = \" + str(round(slope,2)) + \"x + \"+ str(round(intercept,2))\n",
    "line_eq"
   ]
  },
  {
   "cell_type": "code",
   "execution_count": 71,
   "metadata": {},
   "outputs": [
    {
     "data": {
      "image/png": "[encoded data removed]",
      "text/plain": [
       "<Figure size 432x288 with 1 Axes>"
      ]
     },
     "metadata": {
      "needs_background": "light"
     },
     "output_type": "display_data"
    }
   ],
   "source": [
    "#Create Plot\n",
    "plt.scatter(south[\"Latitude\"],south[\"Humidity\"])\n",
    "plt.plot(south[\"Latitude\"],regress_values,\"red\")\n",
    "plt.annotate(line_eq,(-50,28),color=\"green\",fontsize=15)\n",
    "plt.annotate(f\"R2 = {round(rvalue**2,3)}\",(-50,20),fontsize=14,color=\"green\")\n",
    "plt.xlabel('Latitude')\n",
    "plt.ylabel('Humidity (%)')\n",
    "plt.savefig('Images/LinRegress_LatvsHum_South')"
   ]
  },
  {
   "cell_type": "markdown",
   "metadata": {},
   "source": [
    "####  Northern Hemisphere - Cloudiness (%) vs. Latitude Linear Regression"
   ]
  },
  {
   "cell_type": "code",
   "execution_count": 72,
   "metadata": {},
   "outputs": [
    {
     "data": {
      "text/plain": [
       "'y = 0.03x + 60.81'"
      ]
     },
     "execution_count": 72,
     "metadata": {},
     "output_type": "execute_result"
    }
   ],
   "source": [
    "#Line Equation\n",
    "(slope,intercept,rvalue,pvalue,stderr)=linregress(north[\"Latitude\"].astype(float),north[\"Cloudiness\"].astype(float))\n",
    "regress_values = north[\"Latitude\"]*slope +intercept\n",
    "line_eq= \"y = \" + str(round(slope,2)) + \"x + \"+ str(round(intercept,2))\n",
    "line_eq"
   ]
  },
  {
   "cell_type": "code",
   "execution_count": 73,
   "metadata": {},
   "outputs": [
    {
     "data": {
      "image/png": "[encoded data removed]",
      "text/plain": [
       "<Figure size 432x288 with 1 Axes>"
      ]
     },
     "metadata": {
      "needs_background": "light"
     },
     "output_type": "display_data"
    }
   ],
   "source": [
    "#Create Plot\n",
    "plt.scatter(north[\"Latitude\"],north[\"Cloudiness\"])\n",
    "plt.plot(north[\"Latitude\"],regress_values,\"red\")\n",
    "plt.annotate(line_eq,(0,30),color=\"green\",fontsize=12)\n",
    "plt.annotate(f\"R2 = {round(rvalue**2,3)}\",(30,25),fontsize=12,color=\"green\")\n",
    "plt.xlabel('Latitude')\n",
    "plt.ylabel('Cloudiness(%)')\n",
    "plt.savefig('Images/LinRegress_LatvsCloud_North')"
   ]
  },
  {
   "cell_type": "markdown",
   "metadata": {},
   "source": [
    "####  Southern Hemisphere - Cloudiness (%) vs. Latitude Linear Regression"
   ]
  },
  {
   "cell_type": "code",
   "execution_count": 74,
   "metadata": {},
   "outputs": [
    {
     "data": {
      "text/plain": [
       "'y = -0.39x + 44.19'"
      ]
     },
     "execution_count": 74,
     "metadata": {},
     "output_type": "execute_result"
    }
   ],
   "source": [
    "#Line Equation\n",
    "(slope,intercept,rvalue,pvalue,stderr)=linregress(south[\"Latitude\"].astype(float),south[\"Cloudiness\"].astype(float))\n",
    "regress_values = south[\"Latitude\"]*slope +intercept\n",
    "line_eq= \"y = \" + str(round(slope,2)) + \"x + \"+ str(round(intercept,2))\n",
    "line_eq"
   ]
  },
  {
   "cell_type": "code",
   "execution_count": 75,
   "metadata": {},
   "outputs": [
    {
     "data": {
      "image/png": "[encoded data removed]",
      "text/plain": [
       "<Figure size 432x288 with 1 Axes>"
      ]
     },
     "metadata": {
      "needs_background": "light"
     },
     "output_type": "display_data"
    }
   ],
   "source": [
    "#Create Plot\n",
    "plt.scatter(south[\"Latitude\"],south[\"Cloudiness\"])\n",
    "plt.plot(south[\"Latitude\"],regress_values,\"red\")\n",
    "plt.annotate(line_eq,(-52,42),color=\"green\",fontsize=15)\n",
    "plt.annotate(f\"R2 = {round(rvalue**2,3)}\",(-52,35),fontsize=14,color=\"green\")\n",
    "plt.xlabel('Latitude')\n",
    "plt.ylabel('Cloudiness(%)')\n",
    "plt.savefig('Images/LinRegress_LatvsLat_South')"
   ]
  },
  {
   "cell_type": "markdown",
   "metadata": {},
   "source": [
    "####  Northern Hemisphere - Wind Speed (mph) vs. Latitude Linear Regression"
   ]
  },
  {
   "cell_type": "code",
   "execution_count": 76,
   "metadata": {},
   "outputs": [
    {
     "data": {
      "text/plain": [
       "'y = 0.05x + 6.23'"
      ]
     },
     "execution_count": 76,
     "metadata": {},
     "output_type": "execute_result"
    }
   ],
   "source": [
    "#Line Equation\n",
    "(slope,intercept,rvalue,pvalue,stderr)=linregress(north[\"Latitude\"].astype(float),north[\"Wind Speed\"].astype(float))\n",
    "regress_values = north[\"Latitude\"]*slope +intercept\n",
    "line_eq= \"y = \" + str(round(slope,2)) + \"x + \"+ str(round(intercept,2))\n",
    "line_eq"
   ]
  },
  {
   "cell_type": "code",
   "execution_count": 77,
   "metadata": {},
   "outputs": [
    {
     "data": {
      "image/png": "[encoded data removed]",
      "text/plain": [
       "<Figure size 432x288 with 1 Axes>"
      ]
     },
     "metadata": {
      "needs_background": "light"
     },
     "output_type": "display_data"
    }
   ],
   "source": [
    "#Create Plot\n",
    "plt.scatter(north[\"Latitude\"],north[\"Wind Speed\"])\n",
    "plt.plot(north[\"Latitude\"],regress_values,\"red\")\n",
    "plt.annotate(line_eq,(0,32),color=\"green\",fontsize=15)\n",
    "plt.annotate(f\"R2 = {round(rvalue**2,3)}\",(0,30),fontsize=14,color=\"green\")\n",
    "plt.xlabel('Latitude')\n",
    "plt.ylabel('Wind Speed(mph)')\n",
    "plt.savefig('Images/LinRegress_LatvsWind_North')"
   ]
  },
  {
   "cell_type": "markdown",
   "metadata": {},
   "source": [
    "####  Southern Hemisphere - Wind Speed (mph) vs. Latitude Linear Regression"
   ]
  },
  {
   "cell_type": "code",
   "execution_count": 78,
   "metadata": {},
   "outputs": [
    {
     "data": {
      "text/plain": [
       "'y = -0.08x + 7.67'"
      ]
     },
     "execution_count": 78,
     "metadata": {},
     "output_type": "execute_result"
    }
   ],
   "source": [
    "#Line Equation\n",
    "(slope,intercept,rvalue,pvalue,stderr)=linregress(south[\"Latitude\"].astype(float),south[\"Wind Speed\"].astype(float))\n",
    "regress_values = south[\"Latitude\"]*slope +intercept\n",
    "line_eq= \"y = \" + str(round(slope,2)) + \"x + \"+ str(round(intercept,2))\n",
    "line_eq"
   ]
  },
  {
   "cell_type": "code",
   "execution_count": 79,
   "metadata": {
    "scrolled": true
   },
   "outputs": [
    {
     "data": {
      "image/png": "[encoded data removed]",
      "text/plain": [
       "<Figure size 432x288 with 1 Axes>"
      ]
     },
     "metadata": {
      "needs_background": "light"
     },
     "output_type": "display_data"
    }
   ],
   "source": [
    "#Create Plot\n",
    "plt.scatter(south[\"Latitude\"],south[\"Wind Speed\"])\n",
    "plt.plot(south[\"Latitude\"],regress_values,\"red\")\n",
    "plt.annotate(line_eq,(-55,24),color=\"green\",fontsize=15)\n",
    "plt.annotate(f\"R2 = {round(rvalue**2,3)}\",(-55,22),fontsize=14,color=\"green\")\n",
    "plt.xlabel('Latitude')\n",
    "plt.ylabel('Wind Speed(mph)')\n",
    "plt.savefig('Images/LinRegress_LatvsWind_South')"
   ]
  },
  {
   "cell_type": "code",
   "execution_count": null,
   "metadata": {},
   "outputs": [],
   "source": []
  },
  {
   "cell_type": "code",
   "execution_count": null,
   "metadata": {},
   "outputs": [],
   "source": []
  }
 ],
 "metadata": {
  "anaconda-cloud": {},
  "kernel_info": {
   "name": "python3"
  },
  "kernelspec": {
   "display_name": "Python 3",
   "language": "python",
   "name": "python3"
  },
  "language_info": {
   "codemirror_mode": {
    "name": "ipython",
    "version": 3
   },
   "file_extension": ".py",
   "mimetype": "text/x-python",
   "name": "python",
   "nbconvert_exporter": "python",
   "pygments_lexer": "ipython3",
   "version": "3.8.3"
  },
  "latex_envs": {
   "LaTeX_envs_menu_present": true,
   "autoclose": false,
   "autocomplete": true,
   "bibliofile": "biblio.bib",
   "cite_by": "apalike",
   "current_citInitial": 1,
   "eqLabelWithNumbers": true,
   "eqNumInitial": 1,
   "hotkeys": {
    "equation": "Ctrl-E",
    "itemize": "Ctrl-I"
   },
   "labels_anchors": false,
   "latex_user_defs": false,
   "report_style_numbering": false,
   "user_envs_cfg": false
  },
  "nteract": {
   "version": "0.12.3"
  }
 },
 "nbformat": 4,
 "nbformat_minor": 2
}
